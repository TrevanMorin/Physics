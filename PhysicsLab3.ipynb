{
  "nbformat": 4,
  "nbformat_minor": 0,
  "metadata": {
    "colab": {
      "provenance": [],
      "toc_visible": true,
      "authorship_tag": "ABX9TyMn+9Qpt52Y8C267aEik3ud",
      "include_colab_link": true
    },
    "kernelspec": {
      "name": "python3",
      "display_name": "Python 3"
    },
    "language_info": {
      "name": "python"
    }
  },
  "cells": [
    {
      "cell_type": "markdown",
      "metadata": {
        "id": "view-in-github",
        "colab_type": "text"
      },
      "source": [
        "<a href=\"https://colab.research.google.com/github/TrevanMorin/Physics/blob/main/PhysicsLab3.ipynb\" target=\"_parent\"><img src=\"https://colab.research.google.com/assets/colab-badge.svg\" alt=\"Open In Colab\"/></a>"
      ]
    },
    {
      "cell_type": "code",
      "execution_count": null,
      "metadata": {
        "id": "vELHHgL5KnsP"
      },
      "outputs": [],
      "source": [
        "#PHSX 216 Projectile Motion Lab plotting code\n",
        "#performs 2nd degree polynomial fit\n",
        "#Brianna Beller\n",
        "#Updated September 2024\n",
        "\n",
        "import numpy as np\n",
        "import matplotlib.pyplot as plt\n",
        "\n",
        "#-----------------------------------------------------------------------#\n",
        "#----------UPDATE THIS SECTION!!!----------\n",
        "\n",
        "#DATA TO BE PLOTTED\n",
        "#UPDATE THE VARIABLE NAMES & NUMBERS (LEAVE BRACKETS/PARENTHESES AS IS)\n",
        "#variable names should start with a letter and must contain only letters, numbers, and underscores\n",
        "\n",
        "#DATA TO BE PLOTTED (Averages calculated from your data)\n",
        "angles = np.array([35, 38, 41, 44, 47])  # Angles in degrees\n",
        "average_heights = np.array([27.62, 32.7, 33.86, 32.42, 31.62])  # Average heights in cm\n",
        "errors_heights = np.array([0.3, 0.48, 0.55, 0.75, 0.95])  # Error in heights in cm\n",
        "\n",
        "#Re-assign variables as x, y, dy so that the remaining plotting code may remain generic\n",
        "#UPDATE VARIABLE NAMES (ON RHS OF EACH EQUAL SIGN) TO MATCH VARIABLE NAMES FOR DATA ABOVE\n",
        "\n",
        "x = angles  # Angles on x-axis (degrees)\n",
        "y = average_heights  # Average heights on y-axis (cm)\n",
        "dy = errors_heights  # Error in y               #        <-----\n",
        "\n",
        "#UPDATE EACH OF THESE 3 STRINGS FOR YOUR PLOT LABELS AS YOU WANT THEM TO APPEAR\n",
        "\n",
        "plot_title = 'Projectile Motion: Average Impact Height vs Launch Angle'\n",
        "x_label = 'Launch Angle (degrees)'\n",
        "y_label = 'Average Impact Height (cm)'\n",
        "\n",
        "#-----------------------------------------------------------------------#\n",
        "#-----DON'T NEED TO CHANGE ANYTHING BEYOND THIS POINT!!!-----\n",
        "\n",
        "\n",
        "#size the plot\n",
        "plt.figure(figsize=(15,10))\n",
        "\n",
        "#create scatter plot\n",
        "plt.scatter(x, y, color='blue', marker='o')\n",
        "\n",
        "#create labels\n",
        "plt.xlabel(x_label)\n",
        "plt.ylabel(y_label)\n",
        "plt.title(plot_title)\n",
        "\n",
        "#fitting to a 2nd degree polynomial\n",
        "c,b,a=np.polynomial.polynomial.polyfit(x,y,2,w=dy)\n",
        "\n",
        "#Annotate with values of A, B, C from best fit polynomial\n",
        "plt.annotate('best fit line: $f(x)=Ax^2+Bx+C$',(0.05, 0.95), xycoords='axes fraction')\n",
        "\n",
        "plt.annotate('     A = {:.6f}'.format(a),(0.05, 0.9), xycoords='axes fraction')\n",
        "\n",
        "plt.annotate('     B = {:.6f}'.format(b),(0.05, 0.85), xycoords='axes fraction')\n",
        "\n",
        "plt.annotate('     C = {:.6f}'.format(c),(0.05, 0.8), xycoords='axes fraction')\n",
        "\n",
        "#Create fit line\n",
        "xnew = np.linspace(x.min(), x.max(), 300)\n",
        "fit = a*xnew**2 + b*xnew +c\n",
        "\n",
        "plt.plot(xnew, fit, color='green')\n",
        "plt.show()"
      ]
    }
  ]
}